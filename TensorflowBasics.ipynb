{
  "nbformat": 4,
  "nbformat_minor": 0,
  "metadata": {
    "colab": {
      "name": "Untitled0.ipynb",
      "version": "0.3.2",
      "provenance": [],
      "collapsed_sections": [],
      "include_colab_link": true
    },
    "kernelspec": {
      "name": "python3",
      "display_name": "Python 3"
    },
    "accelerator": "GPU"
  },
  "cells": [
    {
      "cell_type": "markdown",
      "metadata": {
        "id": "view-in-github",
        "colab_type": "text"
      },
      "source": [
        "[View in Colaboratory](https://colab.research.google.com/github/s-bose/ML-and-Shit/blob/master/TensorflowBasics.ipynb)"
      ]
    },
    {
      "metadata": {
        "id": "pS8UdhkgQdWs",
        "colab_type": "code",
        "colab": {}
      },
      "cell_type": "code",
      "source": [
        "import numpy as np\n",
        "import pandas as pd\n",
        "import matplotlib.pyplot as plt\n",
        "import tensorflow as tf\n"
      ],
      "execution_count": 0,
      "outputs": []
    },
    {
      "metadata": {
        "id": "j996haKDRqG9",
        "colab_type": "code",
        "colab": {
          "base_uri": "https://localhost:8080/",
          "height": 34
        },
        "outputId": "a1230618-9cf9-4786-dbad-74d1e091fe47"
      },
      "cell_type": "code",
      "source": [
        "t1 = tf.constant(2.0, dtype= tf.float32)\n",
        "print(t1)"
      ],
      "execution_count": 6,
      "outputs": [
        {
          "output_type": "stream",
          "text": [
            "Tensor(\"Const_2:0\", shape=(), dtype=float32)\n"
          ],
          "name": "stdout"
        }
      ]
    },
    {
      "metadata": {
        "id": "YzdfXL5HSJQ7",
        "colab_type": "code",
        "colab": {
          "base_uri": "https://localhost:8080/",
          "height": 34
        },
        "outputId": "c149cbbe-2af7-4b1a-8add-8b3c7daf3261"
      },
      "cell_type": "code",
      "source": [
        "t2 = tf.constant([1.0, 2.0], dtype=tf.float32, name = 'tensor2')\n",
        "print(t2)"
      ],
      "execution_count": 9,
      "outputs": [
        {
          "output_type": "stream",
          "text": [
            "Tensor(\"tensor2_2:0\", shape=(2,), dtype=float32)\n"
          ],
          "name": "stdout"
        }
      ]
    },
    {
      "metadata": {
        "id": "yP0Vw-srScOJ",
        "colab_type": "code",
        "colab": {}
      },
      "cell_type": "code",
      "source": [
        ""
      ],
      "execution_count": 0,
      "outputs": []
    },
    {
      "metadata": {
        "id": "4fpDaq99TpRg",
        "colab_type": "code",
        "colab": {}
      },
      "cell_type": "code",
      "source": [
        ""
      ],
      "execution_count": 0,
      "outputs": []
    },
    {
      "metadata": {
        "id": "i0LCC66G8oVW",
        "colab_type": "code",
        "colab": {}
      },
      "cell_type": "code",
      "source": [
        ""
      ],
      "execution_count": 0,
      "outputs": []
    },
    {
      "metadata": {
        "id": "WB3ocw3RWWNU",
        "colab_type": "code",
        "colab": {
          "base_uri": "https://localhost:8080/",
          "height": 34
        },
        "outputId": "9a44802d-ead1-4e07-f6f5-1739ac6ab37b"
      },
      "cell_type": "code",
      "source": [
        "node_1 = tf.constant([9, 10, 11], dtype=tf.float32, name='node_1')\n",
        "node_2 = tf.constant([7, 8, 6.5], dtype=tf.float32, name='node_2')\n",
        "node_3 = tf.constant(5.6, dtype=tf.float32, name='node_3')\n",
        "node_4 = tf.constant([7.65, 9.0, 6.75], dtype=tf.float32, name='node_4')\n",
        "node_5 = tf.constant([13.5, 7.18, 17], dtype=tf.float32, name='node_5')\n",
        "cg_3 = tf.minimum(((node_1 * node_2)/(node_3)), (node_4+node_5))\n",
        "with tf.Session() as sess:\n",
        "  print(sess.run(cg_3))"
      ],
      "execution_count": 18,
      "outputs": [
        {
          "output_type": "stream",
          "text": [
            "[11.25     14.285714 12.767858]\n"
          ],
          "name": "stdout"
        }
      ]
    },
    {
      "metadata": {
        "id": "3v2H0-6qfVif",
        "colab_type": "code",
        "colab": {}
      },
      "cell_type": "code",
      "source": [
        "X = np.linspace(-30, 300.0, 300)\n",
        "Y = 2*np.linspace(-30.0, 250.0, 300) + np.random.rand(*X.shape)\n",
        "train_X = X[:250]\n",
        "train_Y = Y[:250]\n",
        "test_X = X[250:]\n",
        "test_Y = Y[250:]"
      ],
      "execution_count": 0,
      "outputs": []
    },
    {
      "metadata": {
        "id": "R_vSrG8rhMMo",
        "colab_type": "code",
        "colab": {}
      },
      "cell_type": "code",
      "source": [
        "learning_rate = 0.000001\n",
        "n_epochs = 1000\n",
        "interval = 50\n",
        "#plt.plot(train_X, train_Y, 'r')\n",
        "#plt.show()"
      ],
      "execution_count": 0,
      "outputs": []
    },
    {
      "metadata": {
        "id": "JK2jYfj1hfAb",
        "colab_type": "code",
        "colab": {}
      },
      "cell_type": "code",
      "source": [
        "x = tf.placeholder(tf.float32, name='x')\n",
        "y = tf.placeholder(tf.float32, name='y')"
      ],
      "execution_count": 0,
      "outputs": []
    },
    {
      "metadata": {
        "id": "rQLMg4zOh6yj",
        "colab_type": "code",
        "colab": {}
      },
      "cell_type": "code",
      "source": [
        "w = tf.Variable(0.0, name='weight_1')\n",
        "b = tf.Variable(0.0, name='bias_1')\n",
        "pred_y = (w*x) + b"
      ],
      "execution_count": 0,
      "outputs": []
    },
    {
      "metadata": {
        "id": "egmZ317E78z1",
        "colab_type": "text"
      },
      "cell_type": "markdown",
      "source": [
        ""
      ]
    },
    {
      "metadata": {
        "id": "QEjp44jlj7hW",
        "colab_type": "code",
        "colab": {}
      },
      "cell_type": "code",
      "source": [
        "loss = tf.reduce_mean(tf.square(y - pred_y))\n"
      ],
      "execution_count": 0,
      "outputs": []
    },
    {
      "metadata": {
        "id": "MQHvfmTIlSR9",
        "colab_type": "code",
        "colab": {}
      },
      "cell_type": "code",
      "source": [
        "optimizer = tf.train.GradientDescentOptimizer(learning_rate= learning_rate) .minimize(loss)"
      ],
      "execution_count": 0,
      "outputs": []
    },
    {
      "metadata": {
        "id": "7YhdwtFlliqo",
        "colab_type": "code",
        "colab": {
          "base_uri": "https://localhost:8080/",
          "height": 702
        },
        "outputId": "ee9e1f5a-e1c5-4621-dbdc-0b580bb4feae"
      },
      "cell_type": "code",
      "source": [
        "with tf.Session() as sess:\n",
        "  sess.run(tf.global_variables_initializer())\n",
        "  \n",
        "  for epoch in range(n_epochs):\n",
        "    _, curr_loss = sess.run([optimizer, loss], feed_dict={x:train_X, y:train_Y})\n",
        "    \n",
        "    #print('Loss after epoch ', epoch, 'is ', curr_loss)\n",
        "    \n",
        "    if epoch % interval == 0:\n",
        "       print('Loss after epoch ', epoch, 'is ', curr_loss)\n",
        "     \n",
        "    final_preds, final_loss = sess.run([pred_y, loss], feed_dict={x:test_X, y:test_Y})\n",
        "    \n",
        "  plt.plot(test_X[:10], test_Y[:10], 'r', label='True function')\n",
        "  plt.plot(test_X[:10], final_preds[:10], 'b', label='Predicted function')\n",
        "  plt.legend()\n",
        "  plt.show()"
      ],
      "execution_count": 53,
      "outputs": [
        {
          "output_type": "stream",
          "text": [
            "Loss after epoch  0 is  48421.902\n",
            "Loss after epoch  50 is  1294.6835\n",
            "Loss after epoch  100 is  59.683346\n",
            "Loss after epoch  150 is  27.318064\n",
            "Loss after epoch  200 is  26.468079\n",
            "Loss after epoch  250 is  26.443985\n",
            "Loss after epoch  300 is  26.44153\n",
            "Loss after epoch  350 is  26.43965\n",
            "Loss after epoch  400 is  26.437777\n",
            "Loss after epoch  450 is  26.43591\n",
            "Loss after epoch  500 is  26.434025\n",
            "Loss after epoch  550 is  26.432161\n",
            "Loss after epoch  600 is  26.430292\n",
            "Loss after epoch  650 is  26.42842\n",
            "Loss after epoch  700 is  26.426548\n",
            "Loss after epoch  750 is  26.424685\n",
            "Loss after epoch  800 is  26.422848\n",
            "Loss after epoch  850 is  26.420982\n",
            "Loss after epoch  900 is  26.419117\n",
            "Loss after epoch  950 is  26.41725\n"
          ],
          "name": "stdout"
        },
        {
          "output_type": "display_data",
          "data": {
            "image/png": "[encoded data removed]",
            "text/plain": [
              "<matplotlib.figure.Figure at 0x7f2d25164208>"
            ]
          },
          "metadata": {
            "tags": []
          }
        }
      ]
    }
  ]
}